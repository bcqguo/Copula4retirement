{
 "cells": [
  {
   "cell_type": "code",
   "execution_count": 1,
   "id": "c6b1637d-e738-47f8-bea3-be0bc8da8470",
   "metadata": {
    "tags": []
   },
   "outputs": [],
   "source": [
    "#pip install fitter"
   ]
  },
  {
   "cell_type": "code",
   "execution_count": 86,
   "id": "42ee262a-5dca-4ee7-a7bf-ece6a65a8b12",
   "metadata": {
    "tags": []
   },
   "outputs": [],
   "source": [
    "# calculate residual errors for a persistence forecast model\n",
    "import pandas as pd\n",
    "from pandas import DataFrame\n",
    "from pandas import concat\n",
    "from sklearn.metrics import mean_squared_error\n",
    "from math import sqrt\n",
    "from statsmodels.tsa.ar_model import AutoReg\n",
    "from scipy.stats import rv_continuous, burr, laplace_asymmetric, nct\n",
    "from scipy.special import gamma\n",
    "from statsmodels.tsa.stattools import adfuller\n",
    "import pickle, time, os, sys\n",
    "# imports the fitter function and produces estimated fits for our residuals\n",
    "from fitter import Fitter\n",
    "\n",
    "import warnings\n",
    "warnings.filterwarnings(\"ignore\")\n",
    "\n",
    "from matplotlib import pyplot as plt\n",
    "from pandas.plotting import autocorrelation_plot\n",
    "\n",
    "from statsmodels.distributions.copula.api import FrankCopula, CopulaDistribution\n",
    "from scipy import stats\n",
    "import numpy as np\n",
    "from tqdm import tqdm"
   ]
  },
  {
   "cell_type": "code",
   "execution_count": 2,
   "id": "0cd32215-46d6-44fb-905a-deb910fa9fe9",
   "metadata": {
    "tags": []
   },
   "outputs": [
    {
     "data": {
      "text/plain": [
       "'0.14.0'"
      ]
     },
     "execution_count": 2,
     "metadata": {},
     "output_type": "execute_result"
    }
   ],
   "source": [
    "import statsmodels\n",
    "statsmodels.__version__"
   ]
  },
  {
   "cell_type": "code",
   "execution_count": 3,
   "id": "f46a8e89-3ba3-4f8b-a33a-9da23fcb713a",
   "metadata": {
    "tags": []
   },
   "outputs": [],
   "source": [
    "try:\n",
    "    import statsmodels\n",
    "except:\n",
    "    pip install -U statsmodels"
   ]
  },
  {
   "cell_type": "code",
   "execution_count": 12,
   "id": "ff07e11f-a1f3-4335-a76b-e17ef2d6bd6c",
   "metadata": {},
   "outputs": [],
   "source": [
    "#series.to_csv(\"financial_metrics.csv\", index = False)\n",
    "series = pd.read_csv('financial_metrics.csv')"
   ]
  },
  {
   "cell_type": "code",
   "execution_count": 27,
   "id": "0912abe7-662f-4c61-9c87-5860a4b6626e",
   "metadata": {
    "tags": []
   },
   "outputs": [
    {
     "data": {
      "text/plain": [
       "(97, 6)"
      ]
     },
     "execution_count": 27,
     "metadata": {},
     "output_type": "execute_result"
    }
   ],
   "source": [
    "series.shape"
   ]
  },
  {
   "cell_type": "code",
   "execution_count": 60,
   "id": "f786fee7-8768-4fef-b692-aea42a21a586",
   "metadata": {
    "tags": []
   },
   "outputs": [],
   "source": [
    "def adf_test(timeseries):\n",
    "    print ('Results of Dickey-Fuller Test:')\n",
    "    dftest = adfuller(timeseries, autolag='AIC')\n",
    "    dfoutput = pd.Series(dftest[0:4], index=['Test Statistic','p-value','#Lags Used','Number of Observations Used'])\n",
    "    for key,value in dftest[4].items():\n",
    "        dfoutput['Critical Value (%s)'%key] = value\n",
    "    print (dfoutput)"
   ]
  },
  {
   "cell_type": "code",
   "execution_count": 61,
   "id": "3b0f6879-0b02-4a4b-b421-08c3c1a97dea",
   "metadata": {
    "tags": []
   },
   "outputs": [
    {
     "name": "stdout",
     "output_type": "stream",
     "text": [
      "Results of Dickey-Fuller Test:\n",
      "Test Statistic                -9.615096e+00\n",
      "p-value                        1.769100e-16\n",
      "#Lags Used                     0.000000e+00\n",
      "Number of Observations Used    9.600000e+01\n",
      "Critical Value (1%)           -3.500379e+00\n",
      "Critical Value (5%)           -2.892152e+00\n",
      "Critical Value (10%)          -2.583100e+00\n",
      "dtype: float64\n"
     ]
    }
   ],
   "source": [
    "adf_test(series.stock)"
   ]
  },
  {
   "cell_type": "code",
   "execution_count": 62,
   "id": "a4e8bded-0f9c-450c-b5d9-3a687ec5d08c",
   "metadata": {
    "tags": []
   },
   "outputs": [
    {
     "name": "stdout",
     "output_type": "stream",
     "text": [
      "Results of Dickey-Fuller Test:\n",
      "Test Statistic                 -3.103980\n",
      "p-value                         0.026260\n",
      "#Lags Used                      3.000000\n",
      "Number of Observations Used    93.000000\n",
      "Critical Value (1%)            -3.502705\n",
      "Critical Value (5%)            -2.893158\n",
      "Critical Value (10%)           -2.583637\n",
      "dtype: float64\n"
     ]
    }
   ],
   "source": [
    "adf_test(series.bond)"
   ]
  },
  {
   "cell_type": "code",
   "execution_count": null,
   "id": "d10e3354-6cda-4658-97fd-97f586acc2a3",
   "metadata": {},
   "outputs": [],
   "source": []
  },
  {
   "cell_type": "markdown",
   "id": "4325bc3f-a010-4079-a740-f107d51ef88b",
   "metadata": {},
   "source": [
    "# fit individual distribution"
   ]
  },
  {
   "cell_type": "code",
   "execution_count": 24,
   "id": "4235649c-e158-436c-915e-0032900f2ac5",
   "metadata": {
    "tags": []
   },
   "outputs": [
    {
     "name": "stderr",
     "output_type": "stream",
     "text": [
      "SKIPPED _fit distribution (taking more than 100 seconds)\n",
      "SKIPPED loguniform distribution (taking more than 100 seconds)\n",
      "SKIPPED reciprocal distribution (taking more than 100 seconds)\n",
      "SKIPPED rv_continuous distribution (taking more than 100 seconds)\n",
      "SKIPPED rv_histogram distribution (taking more than 100 seconds)\n",
      "SKIPPED studentized_range distribution (taking more than 100 seconds)\n"
     ]
    }
   ],
   "source": [
    "#fit 109 distribution and return error\n",
    "stock_f = Fitter(series.stock)\n",
    "stock_f.fit()"
   ]
  },
  {
   "cell_type": "code",
   "execution_count": 26,
   "id": "d15196ab-ed91-4f2d-8a0c-a3b2c9b67f3c",
   "metadata": {
    "tags": []
   },
   "outputs": [
    {
     "data": {
      "text/plain": [
       "110"
      ]
     },
     "execution_count": 26,
     "metadata": {},
     "output_type": "execute_result"
    }
   ],
   "source": [
    "len(stock_f.distributions)"
   ]
  },
  {
   "cell_type": "code",
   "execution_count": 27,
   "id": "9bfeba9d-0855-44a5-85a8-8f55a4e5ffbf",
   "metadata": {
    "tags": []
   },
   "outputs": [
    {
     "data": {
      "image/png": "[encoded data removed]",
      "text/plain": [
       "<Figure size 640x480 with 1 Axes>"
      ]
     },
     "metadata": {},
     "output_type": "display_data"
    }
   ],
   "source": [
    "stock_summary = stock_f.summary()"
   ]
  },
  {
   "cell_type": "code",
   "execution_count": 14,
   "id": "b80b5eb6-add8-4b9c-ba0e-69959cdc5ba7",
   "metadata": {
    "tags": []
   },
   "outputs": [
    {
     "data": {
      "text/plain": [
       "Index(['burr', 'mielke', 'gengamma', 'exponweib', 'skewnorm'], dtype='object')"
      ]
     },
     "execution_count": 14,
     "metadata": {},
     "output_type": "execute_result"
    }
   ],
   "source": [
    "stock_summary.index"
   ]
  },
  {
   "cell_type": "code",
   "execution_count": 34,
   "id": "2000a4b7-1b4c-4c90-8d76-7402ca531677",
   "metadata": {
    "tags": []
   },
   "outputs": [
    {
     "data": {
      "text/html": [
       "<div>\n",
       "<style scoped>\n",
       "    .dataframe tbody tr th:only-of-type {\n",
       "        vertical-align: middle;\n",
       "    }\n",
       "\n",
       "    .dataframe tbody tr th {\n",
       "        vertical-align: top;\n",
       "    }\n",
       "\n",
       "    .dataframe thead th {\n",
       "        text-align: right;\n",
       "    }\n",
       "</style>\n",
       "<table border=\"1\" class=\"dataframe\">\n",
       "  <thead>\n",
       "    <tr style=\"text-align: right;\">\n",
       "      <th></th>\n",
       "      <th>sumsquare_error</th>\n",
       "      <th>aic</th>\n",
       "      <th>bic</th>\n",
       "      <th>kl_div</th>\n",
       "      <th>ks_statistic</th>\n",
       "      <th>ks_pvalue</th>\n",
       "    </tr>\n",
       "  </thead>\n",
       "  <tbody>\n",
       "    <tr>\n",
       "      <th>burr</th>\n",
       "      <td>102.755475</td>\n",
       "      <td>70.709123</td>\n",
       "      <td>81.007967</td>\n",
       "      <td>inf</td>\n",
       "      <td>0.048521</td>\n",
       "      <td>0.967978</td>\n",
       "    </tr>\n",
       "    <tr>\n",
       "      <th>mielke</th>\n",
       "      <td>102.755479</td>\n",
       "      <td>70.709318</td>\n",
       "      <td>81.008161</td>\n",
       "      <td>inf</td>\n",
       "      <td>0.048521</td>\n",
       "      <td>0.967978</td>\n",
       "    </tr>\n",
       "    <tr>\n",
       "      <th>gengamma</th>\n",
       "      <td>103.120993</td>\n",
       "      <td>70.033347</td>\n",
       "      <td>80.332191</td>\n",
       "      <td>inf</td>\n",
       "      <td>0.041414</td>\n",
       "      <td>0.993959</td>\n",
       "    </tr>\n",
       "    <tr>\n",
       "      <th>exponweib</th>\n",
       "      <td>103.134452</td>\n",
       "      <td>70.339832</td>\n",
       "      <td>80.638676</td>\n",
       "      <td>inf</td>\n",
       "      <td>0.040947</td>\n",
       "      <td>0.994758</td>\n",
       "    </tr>\n",
       "    <tr>\n",
       "      <th>skewnorm</th>\n",
       "      <td>103.239306</td>\n",
       "      <td>73.497645</td>\n",
       "      <td>81.221777</td>\n",
       "      <td>inf</td>\n",
       "      <td>0.043629</td>\n",
       "      <td>0.988875</td>\n",
       "    </tr>\n",
       "  </tbody>\n",
       "</table>\n",
       "</div>"
      ],
      "text/plain": [
       "           sumsquare_error        aic        bic  kl_div  ks_statistic  \\\n",
       "burr            102.755475  70.709123  81.007967     inf      0.048521   \n",
       "mielke          102.755479  70.709318  81.008161     inf      0.048521   \n",
       "gengamma        103.120993  70.033347  80.332191     inf      0.041414   \n",
       "exponweib       103.134452  70.339832  80.638676     inf      0.040947   \n",
       "skewnorm        103.239306  73.497645  81.221777     inf      0.043629   \n",
       "\n",
       "           ks_pvalue  \n",
       "burr        0.967978  \n",
       "mielke      0.967978  \n",
       "gengamma    0.993959  \n",
       "exponweib   0.994758  \n",
       "skewnorm    0.988875  "
      ]
     },
     "execution_count": 34,
     "metadata": {},
     "output_type": "execute_result"
    },
    {
     "data": {
      "image/png": "[encoded data removed]",
      "text/plain": [
       "<Figure size 640x480 with 1 Axes>"
      ]
     },
     "metadata": {},
     "output_type": "display_data"
    }
   ],
   "source": [
    "stock_5 = Fitter(series.stock, distributions= list(stock_summary.index))\n",
    "stock_5.fit()\n",
    "stock_5.summary()"
   ]
  },
  {
   "cell_type": "code",
   "execution_count": null,
   "id": "2f376375-9678-4bf9-a118-2047f5d4da51",
   "metadata": {},
   "outputs": [],
   "source": []
  },
  {
   "cell_type": "code",
   "execution_count": null,
   "id": "0f88f2bd-b575-41b6-9143-6d199738dbef",
   "metadata": {},
   "outputs": [],
   "source": []
  },
  {
   "cell_type": "code",
   "execution_count": 15,
   "id": "ca823402-df20-40e4-98c5-a5c57ab435eb",
   "metadata": {
    "tags": []
   },
   "outputs": [
    {
     "name": "stdout",
     "output_type": "stream",
     "text": [
      "burr: (14.976934520079752, 0.18814874217017674, -0.5489248312197489, 0.8847058519684361)\n",
      "mielke: (2.817897921124711, 14.976918677251719, -0.548925520971917, 0.884705720041796)\n",
      "gengamma: (0.6367718067262966, 6.16408498490866, -0.6603238123668429, 0.9443431645292288)\n",
      "exponweib: (0.6907701373122621, 5.898930298204084, -0.6756532402352456, 0.9265316201027394)\n",
      "skewnorm: (-2.0863331446550477, 0.3251596365291939, 0.2841284146062046)\n"
     ]
    }
   ],
   "source": [
    "stock_top5_par_dict = {}\n",
    "for i in stock_summary.index:\n",
    "    '''get parameters of top 5 distribution for stock'''\n",
    "    par_i = stock_f.fitted_param[i]\n",
    "    print(f\"{i}: {par_i}\")\n",
    "    stock_top5_par_dict[i] = par_i"
   ]
  },
  {
   "cell_type": "markdown",
   "id": "3814a77b-bb6d-4c91-a5bc-51d3667eaec0",
   "metadata": {},
   "source": [
    "# fit bond distribution"
   ]
  },
  {
   "cell_type": "code",
   "execution_count": 16,
   "id": "57e8433f-4fb8-4833-bd1e-5d1158b4a6df",
   "metadata": {
    "tags": []
   },
   "outputs": [
    {
     "name": "stderr",
     "output_type": "stream",
     "text": [
      "SKIPPED _fit distribution (taking more than 30 seconds)\n",
      "SKIPPED loguniform distribution (taking more than 30 seconds)\n",
      "SKIPPED reciprocal distribution (taking more than 30 seconds)\n",
      "SKIPPED rv_continuous distribution (taking more than 30 seconds)\n",
      "SKIPPED rv_histogram distribution (taking more than 30 seconds)\n",
      "SKIPPED levy_stable distribution (taking more than 30 seconds)\n",
      "SKIPPED recipinvgauss distribution (taking more than 30 seconds)\n",
      "SKIPPED studentized_range distribution (taking more than 30 seconds)\n",
      "SKIPPED vonmises_line distribution (taking more than 30 seconds)\n",
      "SKIPPED vonmises distribution (taking more than 30 seconds)\n"
     ]
    }
   ],
   "source": [
    "#fit 109 distribution and return error\n",
    "bond_f = Fitter(series.bond)\n",
    "bond_f.fit()"
   ]
  },
  {
   "cell_type": "code",
   "execution_count": 17,
   "id": "41a85c62-6fd1-43e9-9b5d-ceac1c011e6a",
   "metadata": {
    "tags": []
   },
   "outputs": [
    {
     "data": {
      "image/png": "[encoded data removed]",
      "text/plain": [
       "<Figure size 640x480 with 1 Axes>"
      ]
     },
     "metadata": {},
     "output_type": "display_data"
    }
   ],
   "source": [
    "bond_summary = bond_f.summary()"
   ]
  },
  {
   "cell_type": "code",
   "execution_count": 18,
   "id": "b7572302-caf8-427f-8af5-7b6cb5958a4d",
   "metadata": {
    "tags": []
   },
   "outputs": [
    {
     "name": "stdout",
     "output_type": "stream",
     "text": [
      "laplace_asymmetric: (0.7122967970189089, 0.009328090401905449, 0.06805937615899749)\n",
      "genhyperbolic: (1.1203771012235704, 8.263486788480682e-05, 2.552418708583975e-05, 0.009914825145612517, 5.013220732999252e-06)\n",
      "skewcauchy: (0.37432183114034046, 0.007264640837457528, 0.04677085859944343)\n",
      "johnsonsu: (-0.5856495059269391, 1.2477677943498862, 0.0007484818970035647, 0.08542947106544782)\n",
      "norminvgauss: (0.903628639670037, 0.38956343472253174, 0.014725113308406063, 0.0872423458908265)\n"
     ]
    }
   ],
   "source": [
    "bond_top5_par_dict = {}\n",
    "for i in bond_summary.index:\n",
    "    '''get parameters of top 5 distribution for bond'''\n",
    "    par_i = bond_f.fitted_param[i]\n",
    "    print(f\"{i}: {par_i}\")\n",
    "    bond_top5_par_dict[i] = par_i"
   ]
  },
  {
   "cell_type": "markdown",
   "id": "f490fad6-56b0-4baa-80d2-c0e79417810d",
   "metadata": {},
   "source": [
    "# fit inflation distribution"
   ]
  },
  {
   "cell_type": "code",
   "execution_count": 19,
   "id": "b37044e6-16a3-4a48-b8b0-423d3c13acd9",
   "metadata": {
    "tags": []
   },
   "outputs": [
    {
     "name": "stderr",
     "output_type": "stream",
     "text": [
      "SKIPPED _fit distribution (taking more than 30 seconds)\n",
      "SKIPPED loguniform distribution (taking more than 30 seconds)\n",
      "SKIPPED reciprocal distribution (taking more than 30 seconds)\n",
      "SKIPPED rv_continuous distribution (taking more than 30 seconds)\n",
      "SKIPPED rv_histogram distribution (taking more than 30 seconds)\n",
      "SKIPPED kappa4 distribution (taking more than 30 seconds)\n",
      "SKIPPED levy_stable distribution (taking more than 30 seconds)\n",
      "SKIPPED recipinvgauss distribution (taking more than 30 seconds)\n",
      "SKIPPED studentized_range distribution (taking more than 30 seconds)\n",
      "SKIPPED vonmises distribution (taking more than 30 seconds)\n",
      "SKIPPED vonmises_line distribution (taking more than 30 seconds)\n"
     ]
    }
   ],
   "source": [
    "#fit 109 distribution and return error\n",
    "inflation_f = Fitter(series.inflation)\n",
    "inflation_f.fit()"
   ]
  },
  {
   "cell_type": "code",
   "execution_count": 20,
   "id": "9998312c-5160-4591-8a0c-94ba054a72d9",
   "metadata": {
    "tags": []
   },
   "outputs": [
    {
     "data": {
      "image/png": "[encoded data removed]",
      "text/plain": [
       "<Figure size 640x480 with 1 Axes>"
      ]
     },
     "metadata": {},
     "output_type": "display_data"
    }
   ],
   "source": [
    "inflation_summary = inflation_f.summary()"
   ]
  },
  {
   "cell_type": "code",
   "execution_count": null,
   "id": "d41cac1b-4173-4715-8733-7ac1c6a2ca82",
   "metadata": {},
   "outputs": [],
   "source": []
  },
  {
   "cell_type": "code",
   "execution_count": 21,
   "id": "00eeddc2-9166-4e4f-b5af-38048d40cce3",
   "metadata": {
    "tags": []
   },
   "outputs": [
    {
     "name": "stdout",
     "output_type": "stream",
     "text": [
      "nct: (1.634810887887318, 0.4969406898747222, 0.0162491457053442, 0.016409760249153325)\n",
      "norminvgauss: (0.19401509051886418, 0.07507107149920203, 0.0228835736873295, 0.01726831940237375)\n",
      "johnsonsu: (-0.293321001030674, 0.7928770585124951, 0.020023171719226702, 0.014389427676425868)\n",
      "tukeylambda: (-0.4885705013772679, 0.024986302842373832, 0.008670757490570103)\n",
      "t: (1.6277445689896632, 0.025031692914076607, 0.01700886819462977)\n"
     ]
    }
   ],
   "source": [
    "inflation_top5_par_dict = {}\n",
    "for i in inflation_summary.index:\n",
    "    '''get parameters of top 5 distribution for inflation'''\n",
    "    par_i = inflation_f.fitted_param[i]\n",
    "    print(f\"{i}: {par_i}\")\n",
    "    inflation_top5_par_dict[i] = par_i"
   ]
  },
  {
   "cell_type": "markdown",
   "id": "075158c3-6815-4eb5-b1fb-9e986847b947",
   "metadata": {},
   "source": [
    "# fit dividend distribution"
   ]
  },
  {
   "cell_type": "code",
   "execution_count": 25,
   "id": "323b593c-5fed-4570-8867-98810db7924d",
   "metadata": {
    "tags": []
   },
   "outputs": [
    {
     "data": {
      "text/html": [
       "<div>\n",
       "<style scoped>\n",
       "    .dataframe tbody tr th:only-of-type {\n",
       "        vertical-align: middle;\n",
       "    }\n",
       "\n",
       "    .dataframe tbody tr th {\n",
       "        vertical-align: top;\n",
       "    }\n",
       "\n",
       "    .dataframe thead th {\n",
       "        text-align: right;\n",
       "    }\n",
       "</style>\n",
       "<table border=\"1\" class=\"dataframe\">\n",
       "  <thead>\n",
       "    <tr style=\"text-align: right;\">\n",
       "      <th></th>\n",
       "      <th>stock</th>\n",
       "      <th>bond</th>\n",
       "      <th>inflation</th>\n",
       "      <th>year</th>\n",
       "      <th>dividend</th>\n",
       "      <th>income</th>\n",
       "    </tr>\n",
       "  </thead>\n",
       "  <tbody>\n",
       "    <tr>\n",
       "      <th>0</th>\n",
       "      <td>0.116239</td>\n",
       "      <td>0.077694</td>\n",
       "      <td>-0.011173</td>\n",
       "      <td>1926</td>\n",
       "      <td>0.054073</td>\n",
       "      <td>0.037276</td>\n",
       "    </tr>\n",
       "    <tr>\n",
       "      <th>1</th>\n",
       "      <td>0.374885</td>\n",
       "      <td>0.089279</td>\n",
       "      <td>-0.022599</td>\n",
       "      <td>1927</td>\n",
       "      <td>0.057081</td>\n",
       "      <td>0.034088</td>\n",
       "    </tr>\n",
       "    <tr>\n",
       "      <th>2</th>\n",
       "      <td>0.436084</td>\n",
       "      <td>0.001039</td>\n",
       "      <td>-0.011561</td>\n",
       "      <td>1928</td>\n",
       "      <td>0.048130</td>\n",
       "      <td>0.032172</td>\n",
       "    </tr>\n",
       "    <tr>\n",
       "      <th>3</th>\n",
       "      <td>-0.084153</td>\n",
       "      <td>0.034213</td>\n",
       "      <td>0.005848</td>\n",
       "      <td>1929</td>\n",
       "      <td>0.039835</td>\n",
       "      <td>0.034743</td>\n",
       "    </tr>\n",
       "    <tr>\n",
       "      <th>4</th>\n",
       "      <td>-0.248970</td>\n",
       "      <td>0.046584</td>\n",
       "      <td>-0.063954</td>\n",
       "      <td>1930</td>\n",
       "      <td>0.045688</td>\n",
       "      <td>0.033248</td>\n",
       "    </tr>\n",
       "  </tbody>\n",
       "</table>\n",
       "</div>"
      ],
      "text/plain": [
       "      stock      bond  inflation  year  dividend    income\n",
       "0  0.116239  0.077694  -0.011173  1926  0.054073  0.037276\n",
       "1  0.374885  0.089279  -0.022599  1927  0.057081  0.034088\n",
       "2  0.436084  0.001039  -0.011561  1928  0.048130  0.032172\n",
       "3 -0.084153  0.034213   0.005848  1929  0.039835  0.034743\n",
       "4 -0.248970  0.046584  -0.063954  1930  0.045688  0.033248"
      ]
     },
     "execution_count": 25,
     "metadata": {},
     "output_type": "execute_result"
    }
   ],
   "source": [
    "series.head()"
   ]
  },
  {
   "cell_type": "code",
   "execution_count": 26,
   "id": "a59152dd-feb4-433c-8eba-4bdced7f92d7",
   "metadata": {
    "tags": []
   },
   "outputs": [
    {
     "name": "stderr",
     "output_type": "stream",
     "text": [
      "SKIPPED _fit distribution (taking more than 30 seconds)\n",
      "SKIPPED kstwo distribution (taking more than 30 seconds)\n",
      "SKIPPED rv_continuous distribution (taking more than 30 seconds)\n",
      "SKIPPED rv_histogram distribution (taking more than 30 seconds)\n",
      "SKIPPED kappa4 distribution (taking more than 30 seconds)\n",
      "SKIPPED recipinvgauss distribution (taking more than 30 seconds)\n",
      "SKIPPED studentized_range distribution (taking more than 30 seconds)\n",
      "SKIPPED vonmises distribution (taking more than 30 seconds)\n",
      "SKIPPED vonmises_line distribution (taking more than 30 seconds)\n"
     ]
    }
   ],
   "source": [
    "#fit 109 distribution and return error\n",
    "divident_f = Fitter(series.dividend)\n",
    "divident_f.fit()"
   ]
  },
  {
   "cell_type": "code",
   "execution_count": 27,
   "id": "3757662b-a6a9-4165-b341-57fff69723d5",
   "metadata": {
    "tags": []
   },
   "outputs": [
    {
     "data": {
      "image/png": "[encoded data removed]",
      "text/plain": [
       "<Figure size 640x480 with 1 Axes>"
      ]
     },
     "metadata": {},
     "output_type": "display_data"
    }
   ],
   "source": [
    "div_summmary = divident_f.summary()"
   ]
  },
  {
   "cell_type": "code",
   "execution_count": 28,
   "id": "27de60e9-16bb-4f6a-bb30-5544455fc7ad",
   "metadata": {
    "tags": []
   },
   "outputs": [
    {
     "name": "stdout",
     "output_type": "stream",
     "text": [
      "burr: (9.318562184665453, 0.11565827165986413, 0.011005456579740667, 0.051361008989308315)\n",
      "mielke: (1.0777664837301704, 9.318600339627466, 0.0110054567919716, 0.051361059214462934)\n",
      "gengamma: (0.3183222500479551, 3.698849361878734, 0.010913176779049459, 0.05124353566243307)\n",
      "exponweib: (0.35548715028313316, 3.356380011641251, 0.010895741610598213, 0.04592768434123097)\n",
      "gompertz: (0.4040872075438151, 0.011057595747605176, 0.026437173399833834)\n"
     ]
    }
   ],
   "source": [
    "dividend_top5_par_dict = {}\n",
    "for i in div_summmary.index:\n",
    "    '''get parameters of top 5 distribution for dividend'''\n",
    "    par_i = divident_f.fitted_param[i]\n",
    "    print(f\"{i}: {par_i}\")\n",
    "    dividend_top5_par_dict[i] = par_i"
   ]
  },
  {
   "cell_type": "markdown",
   "id": "f7ea89d9-5412-4530-8df6-c2929cff54a1",
   "metadata": {},
   "source": [
    "# fit bond income distribution"
   ]
  },
  {
   "cell_type": "code",
   "execution_count": 29,
   "id": "4d527320-e8d6-4fe6-bb29-770a6bb8ee68",
   "metadata": {
    "tags": []
   },
   "outputs": [
    {
     "name": "stderr",
     "output_type": "stream",
     "text": [
      "SKIPPED _fit distribution (taking more than 30 seconds)\n",
      "SKIPPED kstwo distribution (taking more than 30 seconds)\n",
      "SKIPPED genexpon distribution (taking more than 30 seconds)\n",
      "SKIPPED kappa4 distribution (taking more than 30 seconds)\n",
      "SKIPPED rv_continuous distribution (taking more than 30 seconds)\n",
      "SKIPPED rv_histogram distribution (taking more than 30 seconds)\n",
      "SKIPPED recipinvgauss distribution (taking more than 30 seconds)\n",
      "SKIPPED studentized_range distribution (taking more than 30 seconds)\n",
      "SKIPPED vonmises distribution (taking more than 30 seconds)\n",
      "SKIPPED vonmises_line distribution (taking more than 30 seconds)\n"
     ]
    }
   ],
   "source": [
    "#fit 109 distribution and return error\n",
    "income_f = Fitter(series.income)\n",
    "income_f.fit()"
   ]
  },
  {
   "cell_type": "code",
   "execution_count": 30,
   "id": "2e824596-87b3-4fd8-9e29-d216e500a2d2",
   "metadata": {
    "tags": []
   },
   "outputs": [
    {
     "data": {
      "image/png": "[encoded data removed]",
      "text/plain": [
       "<Figure size 640x480 with 1 Axes>"
      ]
     },
     "metadata": {},
     "output_type": "display_data"
    }
   ],
   "source": [
    "income_summmary = income_f.summary()"
   ]
  },
  {
   "cell_type": "code",
   "execution_count": 31,
   "id": "ebad56fa-e181-49d3-b42f-5b3d693319d8",
   "metadata": {
    "tags": []
   },
   "outputs": [
    {
     "name": "stdout",
     "output_type": "stream",
     "text": [
      "genhyperbolic: (0.9087698687934324, 1.931186062853646e-05, 1.552609400420811e-05, 0.02399531948564209, 1.1446516683063608e-07)\n",
      "laplace_asymmetric: (0.31288177862513294, 0.022976034479012586, 0.00885650468421982)\n",
      "skewcauchy: (0.8299969602807649, 0.022670853050789537, 0.010130035922938378)\n",
      "exponnorm: (9.478861158023282, 0.02010934655558022, 0.0029953476841618506)\n",
      "genextreme: (-0.6562713475745107, 0.03263899478908949, 0.015803547534292844)\n"
     ]
    }
   ],
   "source": [
    "income_top5_par_dict = {}\n",
    "for i in income_summmary.index:\n",
    "    '''get parameters of top 5 distribution for dividend'''\n",
    "    par_i = income_f.fitted_param[i]\n",
    "    print(f\"{i}: {par_i}\")\n",
    "    income_top5_par_dict[i] = par_i"
   ]
  },
  {
   "cell_type": "code",
   "execution_count": 79,
   "id": "b4eaa789-626c-46cd-ad2d-150fb5abc34b",
   "metadata": {
    "tags": []
   },
   "outputs": [],
   "source": [
    "(stock_top5_par_dict, bond_top5_par_dict, inflation_top5_par_dict, dividend_top5_par_dict, income_top5_par_dict) \\\n",
    "            = pickle.load(open(\"fit_parameters_top5.pkl\", \"rb\"))"
   ]
  },
  {
   "cell_type": "code",
   "execution_count": 143,
   "id": "cd9867ca-55ed-4d13-9d99-a4be1ef8f7c6",
   "metadata": {
    "tags": []
   },
   "outputs": [],
   "source": [
    "# pickle.dump((stock_top5_par_dict, bond_top5_par_dict, inflation_top5_par_dict, dividend_top5_par_dict, income_top5_par_dict), \n",
    "#             open(\"fit_parameters_top5.pkl\", \"wb\"))"
   ]
  },
  {
   "cell_type": "markdown",
   "id": "aa08ee91-9e6f-46a9-b4c2-4e5a841076dd",
   "metadata": {},
   "source": [
    "# get top 3 marginal distributions"
   ]
  },
  {
   "cell_type": "code",
   "execution_count": 16,
   "id": "21bebede-6578-402d-8c5e-eafff88c5bc7",
   "metadata": {
    "tags": []
   },
   "outputs": [],
   "source": [
    "def gen_dist_obj(dist, index):\n",
    "    return f\"stats.{list(dist.keys())[index]}{list(dist.values())[index]}\""
   ]
  },
  {
   "cell_type": "code",
   "execution_count": 17,
   "id": "dd5a0ce7-ecc1-4d5c-b162-122cf393a757",
   "metadata": {
    "tags": []
   },
   "outputs": [],
   "source": [
    "stock_gen = [exec(f\"stats.{list(stock_top5_par_dict.keys())[0]}{list(stock_top5_par_dict.values())[0]}\"),\n",
    "             exec(f\"stats.{list(stock_top5_par_dict.keys())[1]}{list(stock_top5_par_dict.values())[1]}\"),\n",
    "             exec(f\"stats.{list(stock_top5_par_dict.keys())[2]}{list(stock_top5_par_dict.values())[2]}\")]"
   ]
  },
  {
   "cell_type": "code",
   "execution_count": 18,
   "id": "0831f2b7-c741-42db-8cfa-427729a1d08f",
   "metadata": {
    "tags": []
   },
   "outputs": [],
   "source": [
    "bond_gen = [exec(f\"stats.{list(bond_top5_par_dict.keys())[0]}{list(bond_top5_par_dict.values())[0]}\"),\n",
    "            exec(f\"stats.{list(bond_top5_par_dict.keys())[1]}{list(bond_top5_par_dict.values())[1]}\"),\n",
    "            exec(f\"stats.{list(bond_top5_par_dict.keys())[2]}{list(bond_top5_par_dict.values())[2]}\")]"
   ]
  },
  {
   "cell_type": "code",
   "execution_count": 19,
   "id": "ae456bd6-3783-40b6-adfa-3947c5193b0d",
   "metadata": {
    "tags": []
   },
   "outputs": [],
   "source": [
    "inflation_gen = [exec(f\"stats.{list(inflation_top5_par_dict.keys())[0]}{list(inflation_top5_par_dict.values())[0]}\"),\n",
    "                 exec(f\"stats.{list(inflation_top5_par_dict.keys())[1]}{list(inflation_top5_par_dict.values())[1]}\"),\n",
    "                 exec(f\"stats.{list(inflation_top5_par_dict.keys())[2]}{list(inflation_top5_par_dict.values())[2]}\")]"
   ]
  },
  {
   "cell_type": "code",
   "execution_count": 20,
   "id": "33fc899a-846f-42b1-afaa-ef3a613b13ca",
   "metadata": {
    "tags": []
   },
   "outputs": [],
   "source": [
    "dividend_gen = [exec(f\"stats.{list(dividend_top5_par_dict.keys())[0]}{list(dividend_top5_par_dict.values())[0]}\"),\n",
    "                exec(f\"stats.{list(dividend_top5_par_dict.keys())[1]}{list(dividend_top5_par_dict.values())[1]}\"),\n",
    "                exec(f\"stats.{list(dividend_top5_par_dict.keys())[2]}{list(dividend_top5_par_dict.values())[2]}\")]"
   ]
  },
  {
   "cell_type": "code",
   "execution_count": 21,
   "id": "be3a56c3-6e52-4b24-8fcf-e399991f323b",
   "metadata": {
    "tags": []
   },
   "outputs": [],
   "source": [
    "income_gen = [exec(f\"stats.{list(income_top5_par_dict.keys())[0]}{list(income_top5_par_dict.values())[0]}\"),\n",
    "              exec(f\"stats.{list(income_top5_par_dict.keys())[1]}{list(income_top5_par_dict.values())[1]}\"),\n",
    "              exec(f\"stats.{list(income_top5_par_dict.keys())[2]}{list(income_top5_par_dict.values())[2]}\")]"
   ]
  },
  {
   "cell_type": "code",
   "execution_count": 23,
   "id": "03a8766d-cb59-4f33-a0dd-feaa93d7d01a",
   "metadata": {
    "tags": []
   },
   "outputs": [],
   "source": [
    "marginal_dict = {}\n",
    "for i in range(3):\n",
    "    for j in range(3):\n",
    "        for k in range(3):\n",
    "            for l in range(3):\n",
    "                for m in range(3):\n",
    "                    marginal_dict[f\"{i}_{j}_{k}_{l}_{m}\"] = \",\".join([gen_dist_obj(stock_top5_par_dict, i), \n",
    "                                        gen_dist_obj(bond_top5_par_dict, j),\n",
    "                                        gen_dist_obj(inflation_top5_par_dict, k),\n",
    "                                        gen_dist_obj(dividend_top5_par_dict, l), \n",
    "                                        gen_dist_obj(income_top5_par_dict, m)])                    "
   ]
  },
  {
   "cell_type": "code",
   "execution_count": 24,
   "id": "3e56e612-a06a-42ca-b73c-6b29706e8937",
   "metadata": {
    "tags": []
   },
   "outputs": [
    {
     "data": {
      "text/plain": [
       "243"
      ]
     },
     "execution_count": 24,
     "metadata": {},
     "output_type": "execute_result"
    }
   ],
   "source": [
    "len(marginal_dict)"
   ]
  },
  {
   "cell_type": "code",
   "execution_count": 153,
   "id": "464c6365-27d3-4b69-95d8-d75a60be6ea9",
   "metadata": {
    "tags": []
   },
   "outputs": [],
   "source": [
    "pickle.dump(marginal_dict, open(\"marginal_dict_5.pkl\", \"wb\"))"
   ]
  },
  {
   "cell_type": "code",
   "execution_count": 77,
   "id": "d780e82d-5ad5-4161-b671-d97449e37884",
   "metadata": {
    "tags": []
   },
   "outputs": [],
   "source": [
    "marginal_dict = pickle.load(open(\"marginal_dict_5.pkl\", \"rb\"))"
   ]
  },
  {
   "cell_type": "markdown",
   "id": "14cbddb1-3f63-4924-8970-26b2d2a2f956",
   "metadata": {},
   "source": [
    "# Tail-Balanced FrankCoupla"
   ]
  },
  {
   "cell_type": "code",
   "execution_count": 67,
   "id": "0b5e56e8-70d5-44fb-8eb2-e12d483d4bef",
   "metadata": {
    "tags": []
   },
   "outputs": [
    {
     "data": {
      "text/html": [
       "<div>\n",
       "<style scoped>\n",
       "    .dataframe tbody tr th:only-of-type {\n",
       "        vertical-align: middle;\n",
       "    }\n",
       "\n",
       "    .dataframe tbody tr th {\n",
       "        vertical-align: top;\n",
       "    }\n",
       "\n",
       "    .dataframe thead th {\n",
       "        text-align: right;\n",
       "    }\n",
       "</style>\n",
       "<table border=\"1\" class=\"dataframe\">\n",
       "  <thead>\n",
       "    <tr style=\"text-align: right;\">\n",
       "      <th></th>\n",
       "      <th>stock</th>\n",
       "      <th>bond</th>\n",
       "      <th>inflation</th>\n",
       "      <th>dividend</th>\n",
       "      <th>income</th>\n",
       "    </tr>\n",
       "  </thead>\n",
       "  <tbody>\n",
       "    <tr>\n",
       "      <th>0</th>\n",
       "      <td>0.116239</td>\n",
       "      <td>0.077694</td>\n",
       "      <td>-0.011173</td>\n",
       "      <td>0.054073</td>\n",
       "      <td>0.037276</td>\n",
       "    </tr>\n",
       "    <tr>\n",
       "      <th>1</th>\n",
       "      <td>0.374885</td>\n",
       "      <td>0.089279</td>\n",
       "      <td>-0.022599</td>\n",
       "      <td>0.057081</td>\n",
       "      <td>0.034088</td>\n",
       "    </tr>\n",
       "    <tr>\n",
       "      <th>2</th>\n",
       "      <td>0.436084</td>\n",
       "      <td>0.001039</td>\n",
       "      <td>-0.011561</td>\n",
       "      <td>0.048130</td>\n",
       "      <td>0.032172</td>\n",
       "    </tr>\n",
       "    <tr>\n",
       "      <th>3</th>\n",
       "      <td>-0.084153</td>\n",
       "      <td>0.034213</td>\n",
       "      <td>0.005848</td>\n",
       "      <td>0.039835</td>\n",
       "      <td>0.034743</td>\n",
       "    </tr>\n",
       "    <tr>\n",
       "      <th>4</th>\n",
       "      <td>-0.248970</td>\n",
       "      <td>0.046584</td>\n",
       "      <td>-0.063954</td>\n",
       "      <td>0.045688</td>\n",
       "      <td>0.033248</td>\n",
       "    </tr>\n",
       "  </tbody>\n",
       "</table>\n",
       "</div>"
      ],
      "text/plain": [
       "      stock      bond  inflation  dividend    income\n",
       "0  0.116239  0.077694  -0.011173  0.054073  0.037276\n",
       "1  0.374885  0.089279  -0.022599  0.057081  0.034088\n",
       "2  0.436084  0.001039  -0.011561  0.048130  0.032172\n",
       "3 -0.084153  0.034213   0.005848  0.039835  0.034743\n",
       "4 -0.248970  0.046584  -0.063954  0.045688  0.033248"
      ]
     },
     "execution_count": 67,
     "metadata": {},
     "output_type": "execute_result"
    }
   ],
   "source": [
    "series_ = series.drop(\"year\", axis = 1)\n",
    "series_.head()"
   ]
  },
  {
   "cell_type": "code",
   "execution_count": 68,
   "id": "74eb97a2-dcf5-41af-acc3-88db7bd02e05",
   "metadata": {
    "tags": []
   },
   "outputs": [
    {
     "data": {
      "text/plain": [
       "0.06572448838220812"
      ]
     },
     "execution_count": 68,
     "metadata": {},
     "output_type": "execute_result"
    }
   ],
   "source": [
    "#initialize theta value from observed data\n",
    "fc = FrankCopula()\n",
    "_theta = fc.fit_corr_param(series_)\n",
    "_theta"
   ]
  },
  {
   "cell_type": "markdown",
   "id": "ca82148b-1cfe-4337-980a-88695f29cae7",
   "metadata": {},
   "source": [
    "# select distribution for Copula w/ minimal sum of 5 KS statistics"
   ]
  },
  {
   "cell_type": "code",
   "execution_count": 28,
   "id": "174a8158-7bd9-4635-b111-60ee91905d95",
   "metadata": {
    "tags": []
   },
   "outputs": [
    {
     "name": "stderr",
     "output_type": "stream",
     "text": [
      "100%|██████████████████████████████████████| 243/243 [7:58:44<00:00, 118.21s/it]\n"
     ]
    }
   ],
   "source": [
    "ks_stat_sum_dict = {}\n",
    "for i in tqdm(list(marginal_dict.keys())):\n",
    "    fc_copula=FrankCopula(theta=_theta, k_dim=5)          \n",
    "    marginals = marginal_dict.get(i)\n",
    "    exec(f\"joint_dist = CopulaDistribution(copula=fc_copula, marginals=[{marginals}])\")    \n",
    "    fc_spl_i = joint_dist.rvs(2000, random_state = 1234)\n",
    "    \n",
    "    ks_stat_sum = 0\n",
    "    for j in range(series_.shape[1]):\n",
    "        ks_stat_sum += stats.kstest(series_.iloc[:,j], fc_spl_i[:,j]).statistic\n",
    "    \n",
    "    ks_stat_sum_dict[i] = ks_stat_sum  "
   ]
  },
  {
   "cell_type": "code",
   "execution_count": 29,
   "id": "88475717-41d4-4dae-ad24-6a0f9f4caf88",
   "metadata": {
    "tags": []
   },
   "outputs": [],
   "source": [
    "pickle.dump(ks_stat_sum_dict, open(\"ks_stat_sum_dict.pkl\", \"wb\"))"
   ]
  },
  {
   "cell_type": "code",
   "execution_count": 73,
   "id": "4ce1b0e9-1b44-4b46-ad99-b9b437dd6a38",
   "metadata": {
    "tags": []
   },
   "outputs": [],
   "source": [
    "ks_stat_sum_dict = pickle.load(open(\"ks_stat_sum_dict.pkl\", \"rb\"))"
   ]
  },
  {
   "cell_type": "code",
   "execution_count": 74,
   "id": "c7e96371-99e3-4ae8-9dc8-9d11b8c81ca7",
   "metadata": {
    "tags": []
   },
   "outputs": [
    {
     "data": {
      "text/plain": [
       "'2_0_0_0_1'"
      ]
     },
     "execution_count": 74,
     "metadata": {},
     "output_type": "execute_result"
    }
   ],
   "source": [
    "best_marginals = min(ks_stat_sum_dict, key = ks_stat_sum_dict.get)\n",
    "best_marginals #'2_0_0_0_1'"
   ]
  },
  {
   "cell_type": "code",
   "execution_count": 75,
   "id": "96fdc27e-4aeb-44ec-93d1-e40f3fe267d9",
   "metadata": {
    "tags": []
   },
   "outputs": [
    {
     "data": {
      "text/plain": [
       "[2, 0, 0, 0, 1]"
      ]
     },
     "execution_count": 75,
     "metadata": {},
     "output_type": "execute_result"
    }
   ],
   "source": [
    "bst_marg_lst = [int(i) for i in best_marginals.split(\"_\")]\n",
    "bst_marg_lst #[2, 0, 0, 0, 1]"
   ]
  },
  {
   "cell_type": "code",
   "execution_count": 80,
   "id": "723e3bc3-03aa-4e46-b6bd-fe9edee27916",
   "metadata": {
    "tags": []
   },
   "outputs": [
    {
     "name": "stdout",
     "output_type": "stream",
     "text": [
      "The best stock distribution is  gengamma\n",
      "The best bond distribution is  laplace_asymmetric\n",
      "The best inflation distribution is  nct\n",
      "The best dividend distribution is  burr\n",
      "The best bond income distribution is  laplace_asymmetric\n"
     ]
    }
   ],
   "source": [
    "print(\"The best stock distribution is \", list(stock_top5_par_dict.keys())[bst_marg_lst[0]])\n",
    "print(\"The best bond distribution is \", list(bond_top5_par_dict.keys())[bst_marg_lst[1]])\n",
    "print(\"The best inflation distribution is \", list(inflation_top5_par_dict.keys())[bst_marg_lst[2]])\n",
    "print(\"The best dividend distribution is \", list(dividend_top5_par_dict.keys())[bst_marg_lst[3]])\n",
    "print(\"The best bond income distribution is \", list(income_top5_par_dict.keys())[bst_marg_lst[4]])"
   ]
  },
  {
   "cell_type": "code",
   "execution_count": 81,
   "id": "b69f1428-605d-44ec-9462-9305452c413a",
   "metadata": {
    "tags": []
   },
   "outputs": [
    {
     "data": {
      "text/plain": [
       "'stats.gengamma(0.6367718067262966, 6.16408498490866, -0.6603238123668429, 0.9443431645292288),stats.laplace_asymmetric(0.7122967970189089, 0.009328090401905449, 0.06805937615899749),stats.nct(1.634810887887318, 0.4969406898747222, 0.0162491457053442, 0.016409760249153325),stats.burr(9.318562184665453, 0.11565827165986413, 0.011005456579740667, 0.051361008989308315),stats.laplace_asymmetric(0.31288177862513294, 0.022976034479012586, 0.00885650468421982)'"
      ]
     },
     "execution_count": 81,
     "metadata": {},
     "output_type": "execute_result"
    }
   ],
   "source": [
    "marginal_dict.get(best_marginals)"
   ]
  },
  {
   "cell_type": "markdown",
   "id": "5cfb37a0-d444-4d17-b742-da13198ceee7",
   "metadata": {
    "tags": []
   },
   "source": [
    "# Fine-tune theta for Frank Copula"
   ]
  },
  {
   "cell_type": "code",
   "execution_count": 30,
   "id": "9bf31e64-f6e9-44d8-940d-dd8a500781e9",
   "metadata": {
    "tags": []
   },
   "outputs": [
    {
     "name": "stderr",
     "output_type": "stream",
     "text": [
      "100%|███████████████████████████████████████████| 49/49 [00:18<00:00,  2.66it/s]"
     ]
    },
    {
     "name": "stdout",
     "output_type": "stream",
     "text": [
      "CPU times: user 53.3 s, sys: 1.75 s, total: 55.1 s\n",
      "Wall time: 18.4 s\n"
     ]
    },
    {
     "name": "stderr",
     "output_type": "stream",
     "text": [
      "\n"
     ]
    }
   ],
   "source": [
    "%%time\n",
    "\n",
    "diff_dict = {}\n",
    "for theta in tqdm(np.arange(0.01, 0.5, 0.01)): #test np.arange(0.1, 10, 0.1)\n",
    "    \n",
    "    fc_copula = FrankCopula(theta=theta, k_dim=5)\n",
    "    marginals = marginal_dict.get(best_marginals)\n",
    "    exec(f\"joint_dist = CopulaDistribution(copula=fc_copula, marginals=[{marginals}])\")    \n",
    "    \n",
    "    abs_sum = []\n",
    "    for seed in range(5):\n",
    "        fc_sample = joint_dist.rvs(2000, random_state = seed)\n",
    "        abs_sum.append(abs(np.corrcoef(fc_sample, rowvar = False) - \\\n",
    "                           np.corrcoef(series_, rowvar = False)).sum())\n",
    "        \n",
    "    diff_dict[theta] = np.mean(abs_sum) \n",
    "    "
   ]
  },
  {
   "cell_type": "code",
   "execution_count": 71,
   "id": "58f9ef12-3128-49f7-b26a-f42f812f60f9",
   "metadata": {
    "tags": []
   },
   "outputs": [
    {
     "data": {
      "text/plain": [
       "0.26"
      ]
     },
     "execution_count": 71,
     "metadata": {},
     "output_type": "execute_result"
    }
   ],
   "source": [
    "best_theta = min(diff_dict, key =  diff_dict.get)\n",
    "best_theta"
   ]
  },
  {
   "cell_type": "code",
   "execution_count": 33,
   "id": "ec97db16-5089-46a1-adcd-59aca4b65ce5",
   "metadata": {
    "tags": []
   },
   "outputs": [],
   "source": [
    "pickle.dump(diff_dict, open(\"coef_diff_5.pkl\", \"wb\"))"
   ]
  },
  {
   "cell_type": "code",
   "execution_count": 69,
   "id": "f0038c6f-71e3-4987-b0d1-8079ff9a8fa1",
   "metadata": {
    "tags": []
   },
   "outputs": [],
   "source": [
    "diff_dict = pickle.load(open(\"coef_diff_5.pkl\", \"rb\"))"
   ]
  },
  {
   "cell_type": "code",
   "execution_count": 83,
   "id": "6b1a5ef3-3429-493f-83d4-07cd6bb87466",
   "metadata": {
    "tags": []
   },
   "outputs": [
    {
     "data": {
      "text/plain": [
       "'stats.gengamma(0.6367718067262966, 6.16408498490866, -0.6603238123668429, 0.9443431645292288),stats.laplace_asymmetric(0.7122967970189089, 0.009328090401905449, 0.06805937615899749),stats.nct(1.634810887887318, 0.4969406898747222, 0.0162491457053442, 0.016409760249153325),stats.burr(9.318562184665453, 0.11565827165986413, 0.011005456579740667, 0.051361008989308315),stats.laplace_asymmetric(0.31288177862513294, 0.022976034479012586, 0.00885650468421982)'"
      ]
     },
     "execution_count": 83,
     "metadata": {},
     "output_type": "execute_result"
    }
   ],
   "source": [
    "marginals = marginal_dict.get(best_marginals)\n",
    "marginals"
   ]
  },
  {
   "cell_type": "markdown",
   "id": "575a43c0-d5eb-4ade-be3a-7d8279802d32",
   "metadata": {},
   "source": [
    "# get 4M samples"
   ]
  },
  {
   "cell_type": "code",
   "execution_count": 87,
   "id": "486ba036-e70f-4a76-ade9-c62681392e63",
   "metadata": {
    "tags": []
   },
   "outputs": [
    {
     "name": "stdout",
     "output_type": "stream",
     "text": [
      "CPU times: user 2min 4s, sys: 2.31 s, total: 2min 6s\n",
      "Wall time: 2min 6s\n"
     ]
    }
   ],
   "source": [
    "%%time\n",
    "\n",
    "fc_copula_best = FrankCopula(theta=best_theta, k_dim=5)\n",
    "exec(f\"joint_dist_best = CopulaDistribution(copula=fc_copula_best, marginals=[{marginals}])\") \n",
    "fc_sample_best = joint_dist_best.rvs(4000000, random_state = 1234)"
   ]
  },
  {
   "cell_type": "code",
   "execution_count": 88,
   "id": "a2fa79e1-161e-4603-ab0d-48d8a5b4c861",
   "metadata": {
    "tags": []
   },
   "outputs": [],
   "source": [
    "# load best sim output into df\n",
    "best_sim = pd.DataFrame(fc_sample_best, columns = [\"Stock\", \"Bond\", \"Inflation\", \"Dividend\", \"Income\"])"
   ]
  },
  {
   "cell_type": "code",
   "execution_count": 89,
   "id": "72156d28-6657-4584-9d3d-1af0e96aa793",
   "metadata": {
    "tags": []
   },
   "outputs": [
    {
     "name": "stdout",
     "output_type": "stream",
     "text": [
      "(4000000, 5)\n"
     ]
    },
    {
     "data": {
      "text/html": [
       "<div>\n",
       "<style scoped>\n",
       "    .dataframe tbody tr th:only-of-type {\n",
       "        vertical-align: middle;\n",
       "    }\n",
       "\n",
       "    .dataframe tbody tr th {\n",
       "        vertical-align: top;\n",
       "    }\n",
       "\n",
       "    .dataframe thead th {\n",
       "        text-align: right;\n",
       "    }\n",
       "</style>\n",
       "<table border=\"1\" class=\"dataframe\">\n",
       "  <thead>\n",
       "    <tr style=\"text-align: right;\">\n",
       "      <th></th>\n",
       "      <th>Stock</th>\n",
       "      <th>Bond</th>\n",
       "      <th>Inflation</th>\n",
       "      <th>Dividend</th>\n",
       "      <th>Income</th>\n",
       "    </tr>\n",
       "  </thead>\n",
       "  <tbody>\n",
       "    <tr>\n",
       "      <th>0</th>\n",
       "      <td>0.456552</td>\n",
       "      <td>0.011318</td>\n",
       "      <td>0.076141</td>\n",
       "      <td>0.024544</td>\n",
       "      <td>0.030098</td>\n",
       "    </tr>\n",
       "    <tr>\n",
       "      <th>1</th>\n",
       "      <td>-0.141053</td>\n",
       "      <td>-0.011505</td>\n",
       "      <td>0.015242</td>\n",
       "      <td>0.067185</td>\n",
       "      <td>0.028081</td>\n",
       "    </tr>\n",
       "    <tr>\n",
       "      <th>2</th>\n",
       "      <td>0.088633</td>\n",
       "      <td>0.052650</td>\n",
       "      <td>0.056096</td>\n",
       "      <td>0.056366</td>\n",
       "      <td>0.049691</td>\n",
       "    </tr>\n",
       "    <tr>\n",
       "      <th>3</th>\n",
       "      <td>0.200431</td>\n",
       "      <td>0.088224</td>\n",
       "      <td>0.009449</td>\n",
       "      <td>0.020090</td>\n",
       "      <td>0.074950</td>\n",
       "    </tr>\n",
       "    <tr>\n",
       "      <th>4</th>\n",
       "      <td>-0.224537</td>\n",
       "      <td>0.071728</td>\n",
       "      <td>0.033733</td>\n",
       "      <td>0.041999</td>\n",
       "      <td>0.021551</td>\n",
       "    </tr>\n",
       "  </tbody>\n",
       "</table>\n",
       "</div>"
      ],
      "text/plain": [
       "      Stock      Bond  Inflation  Dividend    Income\n",
       "0  0.456552  0.011318   0.076141  0.024544  0.030098\n",
       "1 -0.141053 -0.011505   0.015242  0.067185  0.028081\n",
       "2  0.088633  0.052650   0.056096  0.056366  0.049691\n",
       "3  0.200431  0.088224   0.009449  0.020090  0.074950\n",
       "4 -0.224537  0.071728   0.033733  0.041999  0.021551"
      ]
     },
     "execution_count": 89,
     "metadata": {},
     "output_type": "execute_result"
    }
   ],
   "source": [
    "print(best_sim.shape)\n",
    "best_sim.head()"
   ]
  },
  {
   "cell_type": "code",
   "execution_count": 90,
   "id": "7ba181d9-66b5-435a-a230-7eb9b798f463",
   "metadata": {
    "tags": []
   },
   "outputs": [],
   "source": [
    "pickle.dump(best_sim, open(\"best_sim_df.pkl\", \"wb\"))"
   ]
  },
  {
   "cell_type": "code",
   "execution_count": 66,
   "id": "14b42d50-ee10-45f9-abd0-147b18758d69",
   "metadata": {
    "tags": []
   },
   "outputs": [],
   "source": [
    "best_sim = pickle.load(open(\"best_sim_df.pkl\", \"rb\"))"
   ]
  },
  {
   "cell_type": "markdown",
   "id": "d0bd77de-01ff-454d-8d09-aa2e9c44bacc",
   "metadata": {},
   "source": [
    "# Scenario tests"
   ]
  },
  {
   "cell_type": "code",
   "execution_count": 91,
   "id": "63cca071-2696-494b-976a-b9fe3cab5326",
   "metadata": {
    "tags": []
   },
   "outputs": [],
   "source": [
    "#read RMD\n",
    "rmd = pd.read_csv(\"RMD.csv\")"
   ]
  },
  {
   "cell_type": "code",
   "execution_count": 92,
   "id": "b9a5790b-2385-45be-8aad-f8f09c0db5e9",
   "metadata": {
    "tags": []
   },
   "outputs": [
    {
     "data": {
      "text/html": [
       "<div>\n",
       "<style scoped>\n",
       "    .dataframe tbody tr th:only-of-type {\n",
       "        vertical-align: middle;\n",
       "    }\n",
       "\n",
       "    .dataframe tbody tr th {\n",
       "        vertical-align: top;\n",
       "    }\n",
       "\n",
       "    .dataframe thead th {\n",
       "        text-align: right;\n",
       "    }\n",
       "</style>\n",
       "<table border=\"1\" class=\"dataframe\">\n",
       "  <thead>\n",
       "    <tr style=\"text-align: right;\">\n",
       "      <th></th>\n",
       "      <th>Age</th>\n",
       "      <th>RMD</th>\n",
       "    </tr>\n",
       "  </thead>\n",
       "  <tbody>\n",
       "    <tr>\n",
       "      <th>0</th>\n",
       "      <td>62</td>\n",
       "      <td>0.0272</td>\n",
       "    </tr>\n",
       "    <tr>\n",
       "      <th>1</th>\n",
       "      <td>63</td>\n",
       "      <td>0.0279</td>\n",
       "    </tr>\n",
       "    <tr>\n",
       "      <th>2</th>\n",
       "      <td>64</td>\n",
       "      <td>0.0287</td>\n",
       "    </tr>\n",
       "    <tr>\n",
       "      <th>3</th>\n",
       "      <td>65</td>\n",
       "      <td>0.0295</td>\n",
       "    </tr>\n",
       "    <tr>\n",
       "      <th>4</th>\n",
       "      <td>66</td>\n",
       "      <td>0.0303</td>\n",
       "    </tr>\n",
       "  </tbody>\n",
       "</table>\n",
       "</div>"
      ],
      "text/plain": [
       "   Age     RMD\n",
       "0   62  0.0272\n",
       "1   63  0.0279\n",
       "2   64  0.0287\n",
       "3   65  0.0295\n",
       "4   66  0.0303"
      ]
     },
     "execution_count": 92,
     "metadata": {},
     "output_type": "execute_result"
    }
   ],
   "source": [
    "rmd.head()"
   ]
  },
  {
   "cell_type": "code",
   "execution_count": 93,
   "id": "b80f7068-b919-421a-b6a8-338eaee6bb13",
   "metadata": {
    "tags": []
   },
   "outputs": [],
   "source": [
    "#no growth, all cash in hand, solely follow RMD % withdrawal\n",
    "def method_1(org_amt, start_age, end_age, stock_bond_sim_df, stock_weight, bond_weight, withdrawal_rate = None):\n",
    "    \n",
    "    global rmd\n",
    "    \n",
    "    balance = [] \n",
    "    withdrawal = [] \n",
    "    org_left = org_amt\n",
    "\n",
    "    rmd_sub = rmd.loc[(rmd.Age >= start_age) & (rmd.Age <= end_age)]\n",
    "    rmd_sub.index = list(range(start_age, end_age+1))\n",
    "\n",
    "    for i in range(start_age, end_age+1):\n",
    "\n",
    "        if i == start_age:\n",
    "            '''withdraw RMD % initial balance at the beginning of retirement year'''\n",
    "            withdrawal.append(org_left * rmd_sub.RMD[i]) \n",
    "            org_left =  org_left * (1-rmd_sub.RMD[i])            \n",
    "            balance.append(org_left) \n",
    "\n",
    "        else:            \n",
    "            '''for the other years, the left balance will grow with total bond return and total stock return for a year\n",
    "            before withdrawal next year'''            \n",
    "            grow_left =  org_left * (1 + bond_weight * (stock_bond_sim_df.Bond[i]) +  \\\n",
    "                                         stock_weight * (stock_bond_sim_df.Stock[i]))\n",
    "            \n",
    "            withdrawal_ = grow_left * rmd_sub.RMD[i]\n",
    "            #org_left = grow_left - withdrawal_            \n",
    "            \n",
    "            if grow_left <= 0: \n",
    "                withdrawal.append(0)\n",
    "                org_left = 0\n",
    "                balance.append(0)                \n",
    "            \n",
    "            elif (withdrawal_ > grow_left):\n",
    "                withdrawal.append(grow_left)\n",
    "                org_left = 0\n",
    "                balance.append(0)\n",
    "                \n",
    "            elif (withdrawal_ < 0):\n",
    "                withdrawal.append(0)\n",
    "                org_left = grow_left\n",
    "                balance.append(grow_left)   \n",
    "                \n",
    "            else:                \n",
    "                org_left = grow_left - withdrawal_\n",
    "                balance.append(org_left)\n",
    "                withdrawal.append(withdrawal_)     \n",
    "\n",
    "\n",
    "    return balance, withdrawal"
   ]
  },
  {
   "cell_type": "code",
   "execution_count": 94,
   "id": "35598f4c-ab49-476a-af83-4a0e6870c5f1",
   "metadata": {
    "tags": []
   },
   "outputs": [],
   "source": [
    "def method_2(org_amt, start_age, end_age, stock_bond_sim_df, stock_weight, bond_weight, withdrawal_rate = None):\n",
    "    \n",
    "    global rmd\n",
    "    \n",
    "    balance = [] \n",
    "    withdrawal = [] \n",
    "    org_left = org_amt\n",
    "\n",
    "    rmd_sub = rmd.loc[(rmd.Age >= start_age) & (rmd.Age <= end_age)]\n",
    "    rmd_sub.index = list(range(start_age, end_age+1))\n",
    "\n",
    "    for i in range(start_age, end_age+1):\n",
    "        \n",
    "        if i == start_age:\n",
    "            '''withdraw RMD % initial balance at the retirement moment''' \n",
    "            withdrawal_ = org_left * (rmd_sub.RMD[i] \\\n",
    "                           + stock_weight * stock_bond_sim_df.Dividend[i] \\\n",
    "                                 + bond_weight * stock_bond_sim_df.Income[i])\n",
    "            \n",
    "            withdrawal.append(withdrawal_)\n",
    "            \n",
    "            org_left =  (org_left - withdrawal_)                   \n",
    "            balance.append(org_left)              \n",
    "\n",
    "        else:            \n",
    "            '''for the following years, the left balance will grow with total bond and total stock \n",
    "            returns before withdrawal next year'''            \n",
    "            grow_left =  org_left * (1 + bond_weight * stock_bond_sim_df.Bond[i] \\\n",
    "                                   + stock_weight * stock_bond_sim_df.Stock[i])\n",
    "\n",
    "            withdrawal_ = grow_left * rmd_sub.RMD[i] \\\n",
    "                          + org_left * (stock_weight * stock_bond_sim_df.Dividend[i] \\\n",
    "                                      + bond_weight * stock_bond_sim_df.Income[i])  \n",
    "            if grow_left <= 0: \n",
    "                withdrawal.append(0)\n",
    "                org_left = 0\n",
    "                balance.append(0)                \n",
    "            \n",
    "            elif (withdrawal_ > grow_left):\n",
    "                withdrawal.append(grow_left)\n",
    "                org_left = 0\n",
    "                balance.append(0)\n",
    "                \n",
    "            elif (withdrawal_ < 0):\n",
    "                withdrawal.append(0)\n",
    "                org_left = grow_left\n",
    "                balance.append(grow_left)   \n",
    "                \n",
    "            else:                \n",
    "                org_left = grow_left - withdrawal_\n",
    "                balance.append(org_left)\n",
    "                withdrawal.append(withdrawal_)             \n",
    "\n",
    "    return balance, withdrawal"
   ]
  },
  {
   "cell_type": "code",
   "execution_count": 95,
   "id": "3a271740-c644-4e67-a001-1bf9dc042210",
   "metadata": {
    "tags": []
   },
   "outputs": [],
   "source": [
    "def method_3(org_amt, start_age, end_age, stock_bond_sim_df, stock_weight, bond_weight, withdrawal_rate = 0.04):\n",
    "    \n",
    "    '''withdraw a fixed 4% of original amount plus adjustement of inflation'''  \n",
    "    global rmd\n",
    "    \n",
    "    withdrawal = []\n",
    "    balance = [] \n",
    "    org_left = org_amt\n",
    "\n",
    "    rmd_sub = rmd.loc[(rmd.Age >= start_age) & (rmd.Age <= end_age)]\n",
    "    rmd_sub.index = list(range(start_age, end_age+1))\n",
    "    for i in range(start_age, end_age+1):        \n",
    "        if i == start_age:\n",
    "\n",
    "            '''withdraw 4% initial balance at the retirement moment'''      \n",
    "            withdrawal_ = org_left * withdrawal_rate\n",
    "            org_left =  org_left * (1-withdrawal_rate)   \n",
    "            balance.append(org_left)\n",
    "            withdrawal.append(withdrawal_)\n",
    "\n",
    "        else:\n",
    "            '''apply cumulated inflation rate on top of 4% withdrwal'''            \n",
    "            withdrawal_ = withdrawal_ * (1 + stock_bond_sim_df.Inflation[i])\n",
    "            \n",
    "            grow_left = org_left * (1 + bond_weight * (stock_bond_sim_df.Bond[i])  \\\n",
    "                                 + stock_weight * (stock_bond_sim_df.Stock[i]))\n",
    "            \n",
    "            if grow_left <= 0: \n",
    "                withdrawal.append(0)\n",
    "                org_left = 0\n",
    "                balance.append(0)                \n",
    "            \n",
    "            elif (withdrawal_ > grow_left):\n",
    "                withdrawal.append(grow_left)\n",
    "                org_left = 0\n",
    "                balance.append(0)\n",
    "                \n",
    "            elif (withdrawal_ < 0):\n",
    "                withdrawal.append(0)\n",
    "                org_left = grow_left\n",
    "                balance.append(grow_left)   \n",
    "                \n",
    "            else:                \n",
    "                org_left = grow_left - withdrawal_\n",
    "                balance.append(org_left)\n",
    "                withdrawal.append(withdrawal_)        \n",
    "\n",
    "    return balance, withdrawal   \n",
    "   "
   ]
  },
  {
   "cell_type": "code",
   "execution_count": 96,
   "id": "c73acaa7-da23-4678-8d7e-afefe37de4df",
   "metadata": {
    "tags": []
   },
   "outputs": [],
   "source": [
    "def method_4(org_amt, start_age, end_age, stock_bond_sim_df, stock_weight, bond_weight, withdrawal_rate = 0.04):\n",
    "    \n",
    "    '''with fixed 4% annual withdrawal of previous year amount with adjustement of inflation and investment growth'''  \n",
    "    global rmd\n",
    "    \n",
    "    withdrawal = [] \n",
    "    balance = [] \n",
    "    org_left = org_amt\n",
    "\n",
    "    rmd_sub = rmd.loc[(rmd.Age >= start_age) & (rmd.Age <= end_age)]\n",
    "    rmd_sub.index = list(range(start_age, end_age+1))\n",
    "\n",
    "    for i in range(start_age, end_age+1):        \n",
    "        if i == start_age:\n",
    "            '''withdraw 4% initial balance at the retirement moment'''  \n",
    "            withdrawal.append(org_left * withdrawal_rate)\n",
    "            org_left =  org_left * (1-withdrawal_rate) \n",
    "            balance.append(org_left)\n",
    "\n",
    "        elif i == start_age + 1:\n",
    "            '''apply cumulated inflation rate on the 4% of last year balance''' \n",
    "\n",
    "            grow_left =  org_left * (1 + bond_weight * (stock_bond_sim_df.Bond[i]) \\\n",
    "                                  + stock_weight * (stock_bond_sim_df.Stock[i]))                                      \n",
    "\n",
    "            cum_inflation = stock_bond_sim_df.Inflation[i] \n",
    "\n",
    "            withdrawal_ = grow_left * withdrawal_rate * (1 + cum_inflation)              \n",
    "            if grow_left <= 0: \n",
    "                withdrawal.append(0)\n",
    "                org_left = 0\n",
    "                balance.append(0)                \n",
    "            \n",
    "            elif (withdrawal_ > grow_left):\n",
    "                withdrawal.append(grow_left)\n",
    "                org_left = 0\n",
    "                balance.append(0)\n",
    "                \n",
    "            elif (withdrawal_ < 0):\n",
    "                withdrawal.append(0)\n",
    "                org_left = grow_left\n",
    "                balance.append(grow_left)   \n",
    "                \n",
    "            else:                \n",
    "                org_left = grow_left - withdrawal_\n",
    "                balance.append(org_left)\n",
    "                withdrawal.append(withdrawal_) \n",
    "\n",
    "        else:\n",
    "            grow_left =  org_left * (1 + bond_weight * (stock_bond_sim_df.Bond[i]) \\\n",
    "                                  + stock_weight * (stock_bond_sim_df.Stock[i]))                                      \n",
    "\n",
    "            cum_inflation = (1+ stock_bond_sim_df.Inflation[i]) * (1+cum_inflation) - 1\n",
    "            withdrawal_ = grow_left * withdrawal_rate * (1 + cum_inflation)               \n",
    "            \n",
    "            if grow_left <= 0: \n",
    "                withdrawal.append(0)\n",
    "                org_left = 0\n",
    "                balance.append(0)                \n",
    "            \n",
    "            elif (withdrawal_ > grow_left):\n",
    "                withdrawal.append(grow_left)\n",
    "                org_left = 0\n",
    "                balance.append(0)\n",
    "                \n",
    "            elif (withdrawal_ < 0):\n",
    "                withdrawal.append(0)\n",
    "                org_left = grow_left\n",
    "                balance.append(grow_left)   \n",
    "                \n",
    "            else:                \n",
    "                org_left = grow_left - withdrawal_\n",
    "                balance.append(org_left)\n",
    "                withdrawal.append(withdrawal_) \n",
    "\n",
    "    return balance, withdrawal   \n"
   ]
  },
  {
   "cell_type": "code",
   "execution_count": 97,
   "id": "e448264c-6812-4ef2-8691-7925c2ffab0b",
   "metadata": {
    "tags": []
   },
   "outputs": [],
   "source": [
    "def method_5(org_amt, start_age, end_age, stock_bond_sim_df, stock_weight, bond_weight, withdrawal_rate = 0.06):\n",
    "    \n",
    "    '''withdraw a fixed X% annual withdrawal of original amount plus adjustement of inflation'''  \n",
    "    global rmd\n",
    "    \n",
    "    balance = [] \n",
    "    withdrawal = []\n",
    "    org_left = org_amt\n",
    "\n",
    "    rmd_sub = rmd.loc[(rmd.Age >= start_age) & (rmd.Age <= end_age)]\n",
    "    rmd_sub.index = list(range(start_age, end_age+1))\n",
    "    withdrawal_ = org_left * withdrawal_rate\n",
    "\n",
    "    for i in range(start_age, end_age+1):        \n",
    "        if i == start_age:\n",
    "            '''withdraw 6% from initial balance at the retirement moment'''                  \n",
    "            withdrawal.append(withdrawal_)\n",
    "            org_left =  org_left * (1-withdrawal_rate)                   \n",
    "            balance.append(org_left)\n",
    "        else:\n",
    "            '''apply cumulated inflation rate'''\n",
    "            withdrawal_ = withdrawal_ * (1 + stock_bond_sim_df.Inflation[i])\n",
    "\n",
    "            grow_left = org_left * (1 + bond_weight * (stock_bond_sim_df.Bond[i]) +  \n",
    "                               stock_weight * (stock_bond_sim_df.Stock[i]))\n",
    "            if grow_left <= 0: \n",
    "                withdrawal.append(0)\n",
    "                org_left = 0\n",
    "                balance.append(0)                \n",
    "            \n",
    "            elif (withdrawal_ > grow_left):\n",
    "                withdrawal.append(grow_left)\n",
    "                org_left = 0\n",
    "                balance.append(0)\n",
    "                \n",
    "            elif (withdrawal_ < 0):\n",
    "                withdrawal.append(0)\n",
    "                org_left = grow_left\n",
    "                balance.append(grow_left)   \n",
    "                \n",
    "            else:                \n",
    "                org_left = grow_left - withdrawal_\n",
    "                balance.append(org_left)\n",
    "                withdrawal.append(withdrawal_) \n",
    "\n",
    "    return balance, withdrawal   "
   ]
  },
  {
   "cell_type": "code",
   "execution_count": 98,
   "id": "e4bbcad3-98d8-4a9f-84cb-75fc5836af94",
   "metadata": {
    "tags": []
   },
   "outputs": [],
   "source": [
    "def method_6(org_amt, start_age, end_age, stock_bond_sim_df, stock_weight, bond_weight, withdrawal_rate = 0.06):\n",
    "    \n",
    "    '''with X% annual withdrawal of previous year amount plus adjustement of inflation and investment growth'''  \n",
    "    global rmd\n",
    "    \n",
    "    balance = [] \n",
    "    withdrawal = []\n",
    "    org_left = org_amt\n",
    "\n",
    "    rmd_sub = rmd.loc[(rmd.Age >= start_age) & (rmd.Age <= end_age)]\n",
    "    rmd_sub.index = list(range(start_age, end_age+1))\n",
    "\n",
    "    for i in range(start_age, end_age+1):        \n",
    "        if i == start_age:\n",
    "            '''withdraw 6% initial balance at the retirement moment'''  \n",
    "            withdrawal.append(org_left * withdrawal_rate)\n",
    "            org_left =  org_left * (1-withdrawal_rate)  \n",
    "            balance.append(org_left)\n",
    "\n",
    "        elif i == start_age + 1:\n",
    "            '''apply cumulated inflation rate on the 6% of the first year balance''' \n",
    "\n",
    "            grow_left =  org_left * (1 + bond_weight * (stock_bond_sim_df.Bond[i]) \\\n",
    "                                  + stock_weight * (stock_bond_sim_df.Stock[i]))                                      \n",
    "\n",
    "            cum_inflation = stock_bond_sim_df.Inflation[i]             \n",
    "            withdrawal_ = grow_left * withdrawal_rate * (1 + cum_inflation)               \n",
    "            if grow_left <= 0: \n",
    "                withdrawal.append(0)\n",
    "                org_left = 0\n",
    "                balance.append(0)                \n",
    "            \n",
    "            elif (withdrawal_ > grow_left):\n",
    "                withdrawal.append(grow_left)\n",
    "                org_left = 0\n",
    "                balance.append(0)\n",
    "                \n",
    "            elif (withdrawal_ < 0):\n",
    "                withdrawal.append(0)\n",
    "                org_left = grow_left\n",
    "                balance.append(grow_left)   \n",
    "                \n",
    "            else:                \n",
    "                org_left = grow_left - withdrawal_\n",
    "                balance.append(org_left)\n",
    "                withdrawal.append(withdrawal_) \n",
    "        else:            \n",
    "            grow_left =  org_left * (1 + bond_weight * (stock_bond_sim_df.Bond[i]) \\\n",
    "                                  + stock_weight * (stock_bond_sim_df.Stock[i]))                                      \n",
    "\n",
    "            cum_inflation = (1+ stock_bond_sim_df.Inflation[i]) * (1+cum_inflation) - 1\n",
    "            \n",
    "            withdrawal_ = grow_left * withdrawal_rate * (1 + cum_inflation)  \n",
    "            if grow_left <= 0: \n",
    "                withdrawal.append(0)\n",
    "                org_left = 0\n",
    "                balance.append(0)                \n",
    "            \n",
    "            elif (withdrawal_ > grow_left):\n",
    "                withdrawal.append(grow_left)\n",
    "                org_left = 0\n",
    "                balance.append(0)\n",
    "                \n",
    "            elif (withdrawal_ < 0):\n",
    "                withdrawal.append(0)\n",
    "                org_left = grow_left\n",
    "                balance.append(grow_left)   \n",
    "                \n",
    "            else:                \n",
    "                org_left = grow_left - withdrawal_\n",
    "                balance.append(org_left)\n",
    "                withdrawal.append(withdrawal_) \n",
    "\n",
    "    return balance, withdrawal"
   ]
  },
  {
   "cell_type": "code",
   "execution_count": 109,
   "id": "ca1f168d-bd6f-460d-8a2f-ec7ef724329b",
   "metadata": {
    "tags": []
   },
   "outputs": [],
   "source": [
    "def sim_10K(best_fit_df, org_amt, withdrawal_rate, start_age, end_age, \n",
    "            output_balance_path, output_withdrawal_path):\n",
    "    \n",
    "    is_output_balance = os.path.exists(output_balance_path)\n",
    "    if not is_output_balance:\n",
    "        os.mkdir(is_output_balance)\n",
    "        \n",
    "    is_output_withdrawal = os.path.exists(output_withdrawal_path)\n",
    "    if not is_output_withdrawal:\n",
    "        os.mkdir(is_output_withdrawal)        \n",
    "    \n",
    "    print(f'org_amt = {org_amt}; withdrawal_rate = {withdrawal_rate}')\n",
    "    print(f'Output pickle files is {output_balance_path} and {output_withdrawal_path}.')\n",
    "    \n",
    "    method_1_6_4 = {}\n",
    "    method_1_7_3 = {}\n",
    "    method_2_6_4 = {}\n",
    "    method_2_7_3 = {}\n",
    "    method_3_6_4 = {}\n",
    "    method_3_7_3 = {}\n",
    "    method_4_6_4 = {}\n",
    "    method_4_7_3 = {}\n",
    "    method_5_6_4 = {}\n",
    "    method_5_7_3 = {}\n",
    "    method_6_6_4 = {}\n",
    "    method_6_7_3 = {}\n",
    "    \n",
    "    withdrawal_1_6_4 = {}\n",
    "    withdrawal_1_7_3 = {}\n",
    "    withdrawal_2_6_4 = {}\n",
    "    withdrawal_2_7_3 = {}\n",
    "    withdrawal_3_6_4 = {}\n",
    "    withdrawal_3_7_3 = {}\n",
    "    withdrawal_4_6_4 = {}\n",
    "    withdrawal_4_7_3 = {}\n",
    "    withdrawal_5_6_4 = {}\n",
    "    withdrawal_5_7_3 = {}\n",
    "    withdrawal_6_6_4 = {}\n",
    "    withdrawal_6_7_3 = {}\n",
    "    \n",
    "   \n",
    "    for i in tqdm(range(10000)):\n",
    "        \n",
    "        stock_bond_sim_df = best_fit_df.sample((end_age-start_age +1), random_state = i)\n",
    "        stock_bond_sim_df.index = list(range(start_age, end_age+1))\n",
    "\n",
    "        method_1_6_4[i], withdrawal_1_6_4[i] = method_1(org_amt,start_age, end_age, stock_bond_sim_df, 0.4, 0.6)\n",
    "\n",
    "        method_1_7_3[i], withdrawal_1_7_3[i] = method_1(org_amt,start_age, end_age, stock_bond_sim_df, 0.3, 0.7)\n",
    "\n",
    "        method_2_6_4[i], withdrawal_2_6_4[i]= method_2(org_amt,start_age, end_age, stock_bond_sim_df, 0.4, 0.6)\n",
    "\n",
    "        method_2_7_3[i], withdrawal_2_7_3[i] = method_2(org_amt,start_age, end_age, stock_bond_sim_df, 0.3, 0.7)\n",
    "\n",
    "        method_3_6_4[i], withdrawal_3_6_4[i] = method_3(org_amt,start_age, end_age, stock_bond_sim_df, 0.4, 0.6)\n",
    "\n",
    "        method_3_7_3[i], withdrawal_3_7_3[i] = method_3(org_amt,start_age, end_age, stock_bond_sim_df, 0.3, 0.7)\n",
    "\n",
    "        method_4_6_4[i], withdrawal_4_6_4[i] = method_4(org_amt,start_age, end_age, stock_bond_sim_df, 0.4, 0.6)\n",
    "\n",
    "        method_4_7_3[i], withdrawal_4_7_3[i] = method_4(org_amt,start_age, end_age, stock_bond_sim_df, 0.3, 0.7)\n",
    "\n",
    "        method_5_6_4[i], withdrawal_5_6_4[i] = method_5(org_amt,start_age, end_age, stock_bond_sim_df, 0.4, 0.6, withdrawal_rate =withdrawal_rate)\n",
    "\n",
    "        method_5_7_3[i], withdrawal_5_7_3[i] = method_5(org_amt,start_age, end_age, stock_bond_sim_df, 0.3, 0.7, withdrawal_rate =withdrawal_rate)\n",
    "\n",
    "        method_6_6_4[i], withdrawal_6_6_4[i] = method_6(org_amt,start_age, end_age, stock_bond_sim_df, 0.4, 0.6, withdrawal_rate =withdrawal_rate)\n",
    "\n",
    "        method_6_7_3[i], withdrawal_6_7_3[i] = method_6(org_amt,start_age, end_age, stock_bond_sim_df, 0.3, 0.7, withdrawal_rate =withdrawal_rate)\n",
    "    \n",
    "    pickle.dump((method_1_6_4, method_1_7_3, \n",
    "             method_2_6_4, method_2_7_3, \n",
    "             method_3_6_4, method_3_7_3, \n",
    "             method_4_6_4, method_4_7_3, \n",
    "             method_5_6_4, method_5_7_3, \n",
    "             method_6_6_4, method_6_7_3),   \n",
    "                open(f\"{output_balance_path}\", \"wb\")) \n",
    "   \n",
    "    pickle.dump((withdrawal_1_6_4, withdrawal_1_7_3, \n",
    "             withdrawal_2_6_4, withdrawal_2_7_3, \n",
    "             withdrawal_3_6_4, withdrawal_3_7_3, \n",
    "             withdrawal_4_6_4, withdrawal_4_7_3, \n",
    "             withdrawal_5_6_4, withdrawal_5_7_3, \n",
    "             withdrawal_6_6_4, withdrawal_6_7_3) ,\n",
    "            open(f\"{output_withdrawal_path}\", \"wb\")) "
   ]
  },
  {
   "cell_type": "markdown",
   "id": "c47aa6f2-439c-4dc3-a928-b77cc4003573",
   "metadata": {},
   "source": [
    "# export to csv"
   ]
  },
  {
   "cell_type": "code",
   "execution_count": 116,
   "id": "a17e1b9f-2c85-4759-bc89-38cac4033b76",
   "metadata": {
    "tags": []
   },
   "outputs": [],
   "source": [
    "def export_csv(input_bal_path, input_wdrl_path, output_csv_path):\n",
    "    \n",
    "    is_input_bal_path = os.path.exists(input_bal_path)\n",
    "    if not is_input_bal_path:\n",
    "        os.mkdir(input_bal_path)\n",
    "    \n",
    "    is_input_wdrl_path = os.path.exists(input_wdrl_path)\n",
    "    if not is_input_wdrl_path:\n",
    "        os.mkdir(input_wdrl_path)\n",
    "    \n",
    "    is_output_path = os.path.exists(output_csv_path)\n",
    "    if not is_output_path:\n",
    "        os.mkdir(output_csv_path)\n",
    "\n",
    "    (bal_1_6_4, bal_1_7_3, \n",
    "             bal_2_6_4, bal_2_7_3, \n",
    "             bal_3_6_4, bal_3_7_3, \n",
    "             bal_4_6_4, bal_4_7_3, \n",
    "             bal_5_6_4, bal_5_7_3, \n",
    "             bal_6_6_4, bal_6_7_3) \\\n",
    "             = pickle.load(open(f\"{input_bal_path}\", \"rb\"))\n",
    "    \n",
    "    (wdrl_1_6_4, wdrl_1_7_3, \n",
    "             wdrl_2_6_4, wdrl_2_7_3, \n",
    "             wdrl_3_6_4, wdrl_3_7_3, \n",
    "             wdrl_4_6_4, wdrl_4_7_3, \n",
    "             wdrl_5_6_4, wdrl_5_7_3, \n",
    "             wdrl_6_6_4, wdrl_6_7_3) \\\n",
    "             = pickle.load(open(f\"{input_wdrl_path}\", \"rb\"))\n",
    "        \n",
    "    export_lst = ['bal_1_6_4', 'wdrl_1_6_4', 'bal_1_7_3', 'wdrl_1_7_3',\n",
    "             'bal_2_6_4','wdrl_2_6_4', 'bal_2_7_3', 'wdrl_2_7_3',\n",
    "             'bal_3_6_4', 'wdrl_3_6_4', 'bal_3_7_3', 'wdrl_3_7_3',\n",
    "             'bal_4_6_4', 'wdrl_4_6_4', 'bal_4_7_3', 'wdrl_4_7_3',\n",
    "             'bal_5_6_4', 'wdrl_5_6_4', 'bal_5_7_3', 'wdrl_5_7_3',\n",
    "             'bal_6_6_4', 'wdrl_6_6_4', 'bal_6_7_3', 'wdrl_6_7_3']\n",
    "    \n",
    "    for idx, _dict in enumerate((bal_1_6_4, wdrl_1_6_4, bal_1_7_3, wdrl_1_7_3,\n",
    "             bal_2_6_4,wdrl_2_6_4, bal_2_7_3, wdrl_2_7_3,\n",
    "             bal_3_6_4, wdrl_3_6_4, bal_3_7_3, wdrl_3_7_3,\n",
    "             bal_4_6_4, wdrl_4_6_4, bal_4_7_3, wdrl_4_7_3,\n",
    "             bal_5_6_4, wdrl_5_6_4, bal_5_7_3, wdrl_5_7_3,\n",
    "             bal_6_6_4, wdrl_6_6_4,bal_6_7_3, wdrl_6_7_3)):        \n",
    "        \n",
    "        bal_i = pd.DataFrame.from_dict(_dict, orient = \"index\", columns = list(range(65, 101)))\n",
    "        bal_i.to_csv(f\"{output_csv_path}/{export_lst[idx]}.csv\", index = False)  "
   ]
  },
  {
   "cell_type": "markdown",
   "id": "fcaffc99-d13a-4f76-92d2-a41e175e5a50",
   "metadata": {},
   "source": [
    "# run 10K simulations on General settings"
   ]
  },
  {
   "cell_type": "code",
   "execution_count": 101,
   "id": "e133ebea-13b3-46a9-aa82-60a1c4e2df9b",
   "metadata": {
    "tags": []
   },
   "outputs": [],
   "source": [
    "org_amt = 255200\n",
    "withdrawal_rate = 0.06\n",
    "bond_weight = 0.6\n",
    "stock_weight = 0.4"
   ]
  },
  {
   "cell_type": "code",
   "execution_count": 102,
   "id": "35744953-3745-48a1-b7a8-7f288a5eb735",
   "metadata": {
    "tags": []
   },
   "outputs": [
    {
     "name": "stdout",
     "output_type": "stream",
     "text": [
      "org_amt = 255200; withdrawal_rate = 0.06\n",
      "Output pickle files is ./new_best_5_general_balance.pkl and ./new_best_5_general_withdrawal.pkl.\n"
     ]
    },
    {
     "name": "stderr",
     "output_type": "stream",
     "text": [
      "100%|███████████████████████████████████| 10000/10000 [1:11:07<00:00,  2.34it/s]\n"
     ]
    },
    {
     "name": "stdout",
     "output_type": "stream",
     "text": [
      "CPU times: user 1h 11min 12s, sys: 28.9 s, total: 1h 11min 41s\n",
      "Wall time: 1h 12min 4s\n"
     ]
    }
   ],
   "source": [
    "%%time\n",
    "\n",
    "sim_10K(best_sim, 255200, 0.06, 65, 100, \"./new_best_5_general_balance.pkl\", \"./new_best_5_general_withdrawal.pkl\")"
   ]
  },
  {
   "cell_type": "code",
   "execution_count": 110,
   "id": "64725362-ec98-404d-92e4-865c03653a08",
   "metadata": {
    "tags": []
   },
   "outputs": [],
   "source": [
    "export_csv(\"./new_best_5_general_balance.pkl\", \"./new_best_5_general_withdrawal.pkl\",\n",
    "           \"./outputs/best_5_general/\")"
   ]
  },
  {
   "cell_type": "code",
   "execution_count": 117,
   "id": "49e9c14a-f2c7-4ac6-a9d7-e21b1fe20155",
   "metadata": {
    "tags": []
   },
   "outputs": [],
   "source": [
    "def merge_df(input_path, output_path):\n",
    "    \n",
    "    '''merge balance and withdrawal side-by-side by age'''\n",
    "    # Create a new directory because it does not exist\n",
    "    is_output_path = os.path.exists(output_path)\n",
    "    if not is_output_path:\n",
    "        os.mkdir(output_path)\n",
    "    \n",
    "    file_lst = os.listdir(input_path)\n",
    "    file_lst.sort()\n",
    "    file_lst = [i for i in file_lst if i != '.ipynb_checkpoints']\n",
    "    #print(len(file_lst))\n",
    "    #assert len(file_lst) == 72, \"The input files # is more than 72.\"\n",
    "    \n",
    "    for i in range(int(len(file_lst)/2)):\n",
    "        bal_i = pd.read_csv(f'{input_path}/{file_lst[i]}')\n",
    "        wdrl_i = pd.read_csv(f'{input_path}/{file_lst[i+12]}')\n",
    "    \n",
    "        out_i = pd.concat([bal_i, wdrl_i], axis = 1)\n",
    "        out_i.columns = [\"balance\" + str(i) for i in range(65, 101)] + [\"withdrawal\" + str(i) for i in range(65, 101)]\n",
    "        out_i_col = out_i.columns\n",
    "        out_i = out_i[[i for sub_i in [[out_i_col[i]] + [out_i_col[i+36]] for i in range(36)] for i in sub_i]]\n",
    "        out_i.to_csv(f\"{output_path}/method_{file_lst[i]}\", index = False)    "
   ]
  },
  {
   "cell_type": "code",
   "execution_count": 118,
   "id": "76fd1090-2733-49f8-a76a-09625893ea92",
   "metadata": {
    "tags": []
   },
   "outputs": [],
   "source": [
    "merge_df(\"./outputs/best_5_general/\", './outputs/best_5_general_merge/')"
   ]
  },
  {
   "cell_type": "markdown",
   "id": "346b2a31-72dc-4628-9eef-5804ea304057",
   "metadata": {},
   "source": [
    "# Mississippi"
   ]
  },
  {
   "cell_type": "code",
   "execution_count": null,
   "id": "894d1150-17ab-4ee6-b7c9-b2ede97b7c92",
   "metadata": {
    "tags": []
   },
   "outputs": [],
   "source": [
    "# mississippi test\n",
    "org_amt = 617661\n",
    "withdrawal_rate = 0.0725"
   ]
  },
  {
   "cell_type": "code",
   "execution_count": null,
   "id": "0f1787c6-3f6e-4960-b856-19daa7f90399",
   "metadata": {
    "tags": []
   },
   "outputs": [],
   "source": [
    "print(f'org_amt = {org_amt}; withdrawal_rate = {withdrawal_rate}')"
   ]
  },
  {
   "cell_type": "code",
   "execution_count": null,
   "id": "23a93527-8702-4a74-bd68-8ec4f8279f4c",
   "metadata": {
    "tags": []
   },
   "outputs": [],
   "source": [
    "%%time\n",
    "\n",
    "sim_10K(best_sim, 617661, 0.0725, 65, 100, \n",
    "        \"./new_best_5_mississippi_balance.pkl\", \"./new_best_5_mississippi_withdrawal.pkl\")"
   ]
  },
  {
   "cell_type": "code",
   "execution_count": null,
   "id": "d6947954-49f7-4112-a6de-f7d01fc37b3d",
   "metadata": {
    "tags": []
   },
   "outputs": [],
   "source": [
    "export_csv(\"./new_best_5_mississippi_balance.pkl\", \"./new_best_5_mississippi_withdrawal.pkl\", \n",
    "           \"./outputs/best_5_mississippi/\")"
   ]
  },
  {
   "cell_type": "code",
   "execution_count": null,
   "id": "a3650279-62ed-43f7-a915-b3452d1c36f7",
   "metadata": {
    "tags": []
   },
   "outputs": [],
   "source": [
    "merge_df(\"./outputs/best_5_mississippi\", './outputs/best_5_ms_merge/')"
   ]
  },
  {
   "cell_type": "markdown",
   "id": "54acc7e7-a374-44b6-b5ac-a74929e7f878",
   "metadata": {},
   "source": [
    "# New Hampshire"
   ]
  },
  {
   "cell_type": "code",
   "execution_count": null,
   "id": "a7c7e89c-8f34-4b14-9fb4-93c50be4ae91",
   "metadata": {
    "tags": []
   },
   "outputs": [],
   "source": [
    "org_amt = 946850\n",
    "withdrawal_rate = 0.0591"
   ]
  },
  {
   "cell_type": "code",
   "execution_count": null,
   "id": "5c93cb3d-e84d-40ef-9859-6e9cd5eef6dd",
   "metadata": {
    "tags": []
   },
   "outputs": [],
   "source": [
    "print(f'org_amt = {org_amt}; withdrawal_rate = {withdrawal_rate}')"
   ]
  },
  {
   "cell_type": "code",
   "execution_count": null,
   "id": "bf67ef50-6608-44bd-bd20-3ce65f42cdef",
   "metadata": {
    "tags": []
   },
   "outputs": [],
   "source": [
    "%%time\n",
    "\n",
    "sim_10K(best_sim, 946850, 0.0591, 65, 100, \"./new_best_5_newhampshire_balance.pkl\", \n",
    "        \"./new_best_5_newhampshire_withdrawal.pkl\")"
   ]
  },
  {
   "cell_type": "code",
   "execution_count": null,
   "id": "26021eb9-ab66-45bb-b853-bf038536798c",
   "metadata": {
    "tags": []
   },
   "outputs": [],
   "source": [
    "export_csv(\"./new_best_5_newhampshire_balance.pkl\", \"./new_best_5_newhampshire_withdrawal.pkl\", \n",
    "           \"./outputs/best_5_newhampshire\")"
   ]
  },
  {
   "cell_type": "code",
   "execution_count": null,
   "id": "150ba95a-9825-4cf7-a9e7-db50bdf5f56e",
   "metadata": {
    "tags": []
   },
   "outputs": [],
   "source": [
    "merge_df(\"./outputs/best_5_newhampshire\", './outputs/best_5_nh_merge')"
   ]
  },
  {
   "cell_type": "code",
   "execution_count": null,
   "id": "bc0c7c72-4300-4cfc-805c-e50713378118",
   "metadata": {},
   "outputs": [],
   "source": []
  },
  {
   "cell_type": "markdown",
   "id": "d9ac3520-ff4c-4ca7-9d3a-99d7f5ce7b4a",
   "metadata": {},
   "source": [
    "# concat median by age and plot"
   ]
  },
  {
   "cell_type": "code",
   "execution_count": 119,
   "id": "e93867ca-127d-4698-9492-d36ab142e5bc",
   "metadata": {
    "tags": []
   },
   "outputs": [],
   "source": [
    "try:\n",
    "    import plotly\n",
    "except:\n",
    "    !pip install -U plotly"
   ]
  },
  {
   "cell_type": "code",
   "execution_count": 120,
   "id": "297483da-f424-464e-8361-1b40a4d2a2d5",
   "metadata": {
    "tags": []
   },
   "outputs": [],
   "source": [
    "try:\n",
    "    import kaleido\n",
    "except:\n",
    "    !pip install kaleido"
   ]
  },
  {
   "cell_type": "code",
   "execution_count": 121,
   "id": "e77bae81-d619-47c7-a7ff-8047b8932fc1",
   "metadata": {
    "tags": []
   },
   "outputs": [],
   "source": [
    "import plotly\n",
    "import plotly.graph_objects as go\n",
    "import plotly.io as pio\n",
    "pio.kaleido.scope.default_format = \"svg\""
   ]
  },
  {
   "cell_type": "code",
   "execution_count": 122,
   "id": "715f7c53-b91f-4863-88f7-e4b2f82c8978",
   "metadata": {
    "tags": []
   },
   "outputs": [],
   "source": [
    "def prep_plot(pkl, col_name = 'method'):\n",
    "    \n",
    "    (method_1_6_4, method_1_7_3, \n",
    "             method_2_6_4, method_2_7_3, \n",
    "             method_3_6_4, method_3_7_3, \n",
    "             method_4_6_4, method_4_7_3, \n",
    "             method_5_6_4, method_5_7_3, \n",
    "             method_6_6_4, method_6_7_3) \\\n",
    "             = pickle.load(open(pkl, \"rb\"))   \n",
    "\n",
    "\n",
    "    method_median = pd.Series(list(range(65, 101)), name = \"Age\")\n",
    "    method_median.index = [int(j) for j in list(range(65, 101))]\n",
    "    for i in tqdm((method_1_6_4, method_1_7_3, method_2_6_4, method_2_7_3, \n",
    "               method_3_6_4, method_3_7_3, method_4_6_4, method_4_7_3,    \n",
    "               method_5_6_4, method_5_7_3, method_6_6_4, method_6_7_3)):\n",
    "        df_i = pd.DataFrame.from_dict(i, orient = \"index\", columns = list(range(65, 101)))\n",
    "    \n",
    "        method_median = pd.concat([method_median, df_i.median(axis =0)], axis = 1)\n",
    "    \n",
    "    method_median.columns = ['Age',f'{col_name}_1_6_4',f'{col_name}_1_7_3', \n",
    "                             f'{col_name}_2_6_4', f'{col_name}_2_7_3', \n",
    "                             f'{col_name}_3_6_4', f'{col_name}_3_7_3', \n",
    "                             f'{col_name}_4_6_4', f'{col_name}_4_7_3',    \n",
    "                             f'{col_name}_5_6_4', f'{col_name}_5_7_3', \n",
    "                             f'{col_name}_6_6_4', f'{col_name}_6_7_3']\n",
    "    \n",
    "    return method_median"
   ]
  },
  {
   "cell_type": "code",
   "execution_count": 123,
   "id": "e33f8391-b47e-4023-a98d-2bcb4dff6678",
   "metadata": {
    "tags": []
   },
   "outputs": [
    {
     "name": "stderr",
     "output_type": "stream",
     "text": [
      "100%|███████████████████████████████████████████| 12/12 [00:00<00:00, 13.21it/s]\n"
     ]
    }
   ],
   "source": [
    "withdrwal_median = prep_plot('new_best_5_general_withdrawal.pkl', col_name = 'Withdrawal')    "
   ]
  },
  {
   "cell_type": "code",
   "execution_count": 124,
   "id": "88550ad3-77e9-471c-b640-5c7666e7d4c4",
   "metadata": {
    "tags": []
   },
   "outputs": [
    {
     "data": {
      "text/plain": [
       "'./retirement_withdrawal_general_70_30.html'"
      ]
     },
     "execution_count": 124,
     "metadata": {},
     "output_type": "execute_result"
    }
   ],
   "source": [
    "pd.options.plotting.backend = \"plotly\"\n",
    "\n",
    "fig = withdrwal_median.iloc[:,[2,4,6,8,10,12]].plot()\n",
    "fig.update_layout(legend=dict(title=\"Scenarios\")) \n",
    "plotly.offline.plot(fig, filename='./retirement_withdrawal_general_70_30.html')"
   ]
  },
  {
   "cell_type": "code",
   "execution_count": 125,
   "id": "55399db1-a085-4a5c-a8ef-6cb399feeb59",
   "metadata": {
    "tags": []
   },
   "outputs": [
    {
     "data": {
      "text/plain": [
       "'./retirement_withdrawal_general_60_40.html'"
      ]
     },
     "execution_count": 125,
     "metadata": {},
     "output_type": "execute_result"
    }
   ],
   "source": [
    "fig = withdrwal_median.iloc[:,[1,3,5,7,9,11]].plot()\n",
    "fig.update_layout(legend=dict(title=\"Scenarios\")) \n",
    "plotly.offline.plot(fig, filename='./retirement_withdrawal_general_60_40.html')"
   ]
  }
 ],
 "metadata": {
  "kernelspec": {
   "display_name": "Python 3 (ipykernel)",
   "language": "python",
   "name": "python3"
  },
  "language_info": {
   "codemirror_mode": {
    "name": "ipython",
    "version": 3
   },
   "file_extension": ".py",
   "mimetype": "text/x-python",
   "name": "python",
   "nbconvert_exporter": "python",
   "pygments_lexer": "ipython3",
   "version": "3.11.4"
  },
  "widgets": {
   "application/vnd.jupyter.widget-state+json": {
    "state": {},
    "version_major": 2,
    "version_minor": 0
   }
  }
 },
 "nbformat": 4,
 "nbformat_minor": 5
}
